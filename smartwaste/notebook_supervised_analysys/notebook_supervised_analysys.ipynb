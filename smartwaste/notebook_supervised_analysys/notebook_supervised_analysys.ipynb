{
 "cells": [
  {
   "cell_type": "markdown",
   "id": "4c6d93ef",
   "metadata": {},
   "source": [
    "\n",
    "# 📓 SmartWaste — Aprendizaje Supervisado de Rutas (Notebook Explicado)\n",
    "\n",
    "Este notebook replica y **explica paso a paso** el flujo de tu módulo `ml_supervisado.py`, pero en formato interactivo de Jupyter Notebook.  \n",
    "Al final tendrás:\n",
    "- Un modelo entrenado (`public/modelos/modelo_supervisado.pkl`)\n",
    "- Gráficas guardadas en `public/graficas/`\n",
    "- Métricas de evaluación (accuracy y reporte de clasificación)\n",
    "\n",
    "> **Objetivo:** clasificar rutas como **Eficientes (1)** o **No eficientes (0)** usando datos de bitácoras de rutas y contenedores.\n"
   ]
  },
  {
   "cell_type": "markdown",
   "id": "5763c591",
   "metadata": {},
   "source": [
    "\n",
    "## 1) Configuración de rutas y verificación de archivos\n",
    "En esta celda definimos las rutas de entrada (los CSV) y de salida (carpetas para gráficas y modelo).  \n",
    "También verificamos que existan los archivos necesarios.\n"
   ]
  },
  {
   "cell_type": "code",
   "execution_count": null,
   "id": "a132bd96",
   "metadata": {},
   "outputs": [],
   "source": [
    "\n",
    "from pathlib import Path\n",
    "\n",
    "# Directorios base (puedes ajustarlos si lo necesitas)\n",
    "BASE_DIR = Path.cwd()                 # Directorio actual del notebook\n",
    "PUBLIC_DIR = BASE_DIR / \"public\"      # Carpeta donde se esperan los CSV y se guardan salidas\n",
    "DATA_RUTAS = PUBLIC_DIR / \"bitacora_recoleccion_etl.csv\"\n",
    "DATA_CONTENEDOR = PUBLIC_DIR / \"bitacora_contenedor_etl.csv\"\n",
    "\n",
    "# Directorios de salida\n",
    "GRAF_DIR = PUBLIC_DIR / \"graficas\"\n",
    "MODEL_DIR = PUBLIC_DIR / \"modelos\"\n",
    "GRAF_DIR.mkdir(parents=True, exist_ok=True)   # Crea si no existen\n",
    "MODEL_DIR.mkdir(parents=True, exist_ok=True)\n",
    "\n",
    "print(\"Carpeta pública:\", PUBLIC_DIR.resolve())\n",
    "print(\"CSV de rutas:\", DATA_RUTAS.resolve())\n",
    "print(\"CSV de contenedor:\", DATA_CONTENEDOR.resolve())\n",
    "\n",
    "# Validación de existencia de archivos de datos\n",
    "if not DATA_RUTAS.exists() or not DATA_CONTENEDOR.exists():\n",
    "    raise FileNotFoundError(\n",
    "        \"No se encontraron los CSV necesarios. Coloca los archivos en la carpeta 'public':\\n\"\n",
    "        f\" - {DATA_RUTAS.name}\\n\"\n",
    "        f\" - {DATA_CONTENEDOR.name}\"\n",
    "    )\n"
   ]
  },
  {
   "cell_type": "markdown",
   "id": "b65d7984",
   "metadata": {},
   "source": [
    "\n",
    "## 2) Importación de librerías\n",
    "Aquí importamos las librerías para manejo de datos, modelado y evaluación.  \n",
    "> **Nota:** Usamos **matplotlib** para los gráficos (sin seaborn) para mantener compatibilidad con entornos restringidos.\n"
   ]
  },
  {
   "cell_type": "code",
   "execution_count": null,
   "id": "0527087d",
   "metadata": {},
   "outputs": [],
   "source": [
    "\n",
    "import pandas as pd\n",
    "import matplotlib.pyplot as plt\n",
    "import joblib\n",
    "from sklearn.ensemble import RandomForestClassifier\n",
    "from sklearn.model_selection import train_test_split\n",
    "from sklearn.metrics import confusion_matrix, classification_report, accuracy_score\n",
    "\n",
    "# Mostrar gráficos dentro del notebook\n",
    "%matplotlib inline\n"
   ]
  },
  {
   "cell_type": "markdown",
   "id": "ff946423",
   "metadata": {},
   "source": [
    "\n",
    "## 3) Carga de datos\n",
    "Leemos los dos CSV generados por tu proceso ETL:\n",
    "- `bitacora_recoleccion_etl.csv`: información por **ruta** (ID, tiempo de duración, etc.).  \n",
    "- `bitacora_contenedor_etl.csv`: información por **contenedor** relacionado a una bitácora/ruta (porcentaje de llenado, si fue recolectado, etc.).\n"
   ]
  },
  {
   "cell_type": "code",
   "execution_count": null,
   "id": "bc50641e",
   "metadata": {},
   "outputs": [],
   "source": [
    "\n",
    "# Carga de datos limpios\n",
    "df_rutas = pd.read_csv(DATA_RUTAS)\n",
    "df_contenedor = pd.read_csv(DATA_CONTENEDOR)\n",
    "\n",
    "print(\"df_rutas (shape):\", df_rutas.shape)\n",
    "print(\"df_contenedor (shape):\", df_contenedor.shape)\n",
    "\n",
    "# Vista rápida de las primeras filas para validar columnas\n",
    "display(df_rutas.head())\n",
    "display(df_contenedor.head())\n"
   ]
  },
  {
   "cell_type": "markdown",
   "id": "29ae305f",
   "metadata": {},
   "source": [
    "\n",
    "## 4) Agregaciones por ruta (feature engineering)\n",
    "A partir del detalle por contenedor, calculamos métricas **agregadas por ruta**:\n",
    "- **Porcentaje_Recolectado**: promedio de `Recolectado` por `Bitacora_Id` (cuántos contenedores fueron recolectados en promedio).  \n",
    "- **Promedio_Llenado**: promedio de `Porcentaje_Llenado` por `Bitacora_Id`.\n",
    "\n",
    "Después, unimos estas métricas al `df_rutas` (tabla a nivel ruta).\n"
   ]
  },
  {
   "cell_type": "code",
   "execution_count": null,
   "id": "b2747767",
   "metadata": {},
   "outputs": [],
   "source": [
    "\n",
    "# Porcentaje de contenedores recolectados por ruta\n",
    "recolectados = df_contenedor.groupby(\"Bitacora_Id\")[\"Recolectado\"].mean().reset_index()\n",
    "recolectados = recolectados.rename(columns={\"Recolectado\": \"Porcentaje_Recolectado\"})\n",
    "\n",
    "# Promedio de llenado por ruta\n",
    "llenado = df_contenedor.groupby(\"Bitacora_Id\")[\"Porcentaje_Llenado\"].mean().reset_index()\n",
    "llenado = llenado.rename(columns={\"Porcentaje_Llenado\": \"Promedio_Llenado\"})\n",
    "\n",
    "# Unir agregados con la tabla de rutas (df_rutas)\n",
    "df = df_rutas.merge(recolectados, left_on=\"ID\", right_on=\"Bitacora_Id\", how=\"left\")\n",
    "df = df.merge(llenado, left_on=\"ID\", right_on=\"Bitacora_Id\", how=\"left\")\n",
    "\n",
    "print(\"Dataset combinado (shape):\", df.shape)\n",
    "display(df.head())\n"
   ]
  },
  {
   "cell_type": "markdown",
   "id": "2b86592b",
   "metadata": {},
   "source": [
    "\n",
    "## 5) Definir objetivo (`y`) y variables predictoras (`X`)\n",
    "Regla de negocio para **Eficiente**:  \n",
    "- `Tiempo_Duracion` ≤ **100** minutos **y**  \n",
    "- `Porcentaje_Recolectado` ≥ **0.8** (80%)\n",
    "\n",
    "Seleccionamos los **features** usados por el modelo y separamos en train/test.\n"
   ]
  },
  {
   "cell_type": "code",
   "execution_count": null,
   "id": "6d7562e8",
   "metadata": {},
   "outputs": [],
   "source": [
    "\n",
    "# Crear etiqueta objetivo (0 = no eficiente, 1 = eficiente)\n",
    "df[\"Eficiente\"] = ((df[\"Tiempo_Duracion\"] <= 100) & (df[\"Porcentaje_Recolectado\"] >= 0.8)).astype(int)\n",
    "\n",
    "# Selección de variables predictoras (features)\n",
    "features = [\"Tiempo_Duracion\", \"Cantidad_Contenedores\", \"Promedio_Llenado\", \"Porcentaje_Recolectado\"]\n",
    "X = df[features].fillna(0)   # Reemplazamos posibles NaN por 0\n",
    "y = df[\"Eficiente\"]\n",
    "\n",
    "# División en entrenamiento y prueba\n",
    "X_train, X_test, y_train, y_test = train_test_split(X, y, test_size=0.3, random_state=42)\n",
    "\n",
    "print(\"Tamaños -> X_train:\", X_train.shape, \"| X_test:\", X_test.shape)\n"
   ]
  },
  {
   "cell_type": "markdown",
   "id": "e5c326cc",
   "metadata": {},
   "source": [
    "\n",
    "## 6) Entrenamiento del modelo (Random Forest)\n",
    "Entrenamos un **RandomForestClassifier** con 100 árboles y semilla fija para reproducibilidad.\n"
   ]
  },
  {
   "cell_type": "code",
   "execution_count": null,
   "id": "16724757",
   "metadata": {},
   "outputs": [],
   "source": [
    "\n",
    "clf = RandomForestClassifier(n_estimators=100, random_state=42)\n",
    "clf.fit(X_train, y_train)\n",
    "y_pred = clf.predict(X_test)\n",
    "\n",
    "print(\"Modelo entrenado.\")\n"
   ]
  },
  {
   "cell_type": "markdown",
   "id": "fa80fa11",
   "metadata": {},
   "source": [
    "\n",
    "## 7) Guardado del modelo\n",
    "Guardamos el modelo entrenado en `public/modelos/modelo_supervisado.pkl` usando `joblib`.\n"
   ]
  },
  {
   "cell_type": "code",
   "execution_count": null,
   "id": "1f5dee75",
   "metadata": {},
   "outputs": [],
   "source": [
    "\n",
    "import joblib\n",
    "\n",
    "model_path = MODEL_DIR / \"modelo_supervisado.pkl\"\n",
    "joblib.dump(clf, model_path)\n",
    "print(\"Modelo guardado en:\", model_path.resolve())\n"
   ]
  },
  {
   "cell_type": "markdown",
   "id": "b48016b4",
   "metadata": {},
   "source": [
    "\n",
    "## 8) Visualizaciones\n",
    "Creamos tres visualizaciones para entender el comportamiento del dataset y del modelo:\n",
    "1. **Histograma** de `Tiempo_Duracion` por clase (`Eficiente` vs `No eficiente`).  \n",
    "2. **Boxplot** de `Promedio_Llenado` por clase.  \n",
    "3. **Matriz de confusión** del conjunto de prueba.\n"
   ]
  },
  {
   "cell_type": "code",
   "execution_count": null,
   "id": "07e76f87",
   "metadata": {},
   "outputs": [],
   "source": [
    "\n",
    "import numpy as np\n",
    "import matplotlib.pyplot as plt\n",
    "\n",
    "# Asegurar carpetas de salida\n",
    "GRAF_DIR.mkdir(parents=True, exist_ok=True)\n",
    "\n",
    "# 8.1) Histograma de duración por clase\n",
    "plt.figure(figsize=(6, 4))\n",
    "plt.hist(df[df[\"Eficiente\"] == 1][\"Tiempo_Duracion\"], bins=20, alpha=0.7, label=\"Eficiente\")\n",
    "plt.hist(df[df[\"Eficiente\"] == 0][\"Tiempo_Duracion\"], bins=20, alpha=0.7, label=\"No eficiente\")\n",
    "plt.title(\"Duración de rutas por clase\")\n",
    "plt.xlabel(\"Tiempo_Duracion (min)\")\n",
    "plt.ylabel(\"Frecuencia\")\n",
    "plt.legend()\n",
    "hist_path = GRAF_DIR / \"hist_duracion.png\"\n",
    "plt.savefig(hist_path, bbox_inches=\"tight\")\n",
    "plt.show()\n",
    "print(\"Guardado:\", hist_path.resolve())\n",
    "\n",
    "# 8.2) Boxplot de Promedio_Llenado por clase\n",
    "plt.figure(figsize=(6, 4))\n",
    "data0 = df[df[\"Eficiente\"] == 0][\"Promedio_Llenado\"].dropna()\n",
    "data1 = df[df[\"Eficiente\"] == 1][\"Promedio_Llenado\"].dropna()\n",
    "plt.boxplot([data0, data1], labels=[\"No eficiente\", \"Eficiente\"])\n",
    "plt.title(\"Promedio de llenado por clase\")\n",
    "plt.ylabel(\"Promedio_Llenado\")\n",
    "box_path = GRAF_DIR / \"box_lleno.png\"\n",
    "plt.savefig(box_path, bbox_inches=\"tight\")\n",
    "plt.show()\n",
    "print(\"Guardado:\", box_path.resolve())\n",
    "\n",
    "# 8.3) Matriz de confusión\n",
    "cm = confusion_matrix(y_test, y_pred)\n",
    "plt.figure(figsize=(4, 4))\n",
    "plt.imshow(cm, interpolation=\"nearest\", aspect=\"auto\")\n",
    "plt.title(\"Matriz de confusión\")\n",
    "plt.xlabel(\"Predicho\")\n",
    "plt.ylabel(\"Real\")\n",
    "\n",
    "# Etiquetas por celda\n",
    "for i in range(cm.shape[0]):\n",
    "    for j in range(cm.shape[1]):\n",
    "        plt.text(j, i, cm[i, j], ha=\"center\", va=\"center\")\n",
    "\n",
    "plt.colorbar()\n",
    "conf_path = GRAF_DIR / \"confusion.png\"\n",
    "plt.savefig(conf_path, bbox_inches=\"tight\")\n",
    "plt.show()\n",
    "print(\"Guardado:\", conf_path.resolve())\n"
   ]
  },
  {
   "cell_type": "markdown",
   "id": "edaf1539",
   "metadata": {},
   "source": [
    "\n",
    "## 9) Métricas de evaluación\n",
    "Calculamos **accuracy** y mostramos el **reporte de clasificación** (precision, recall, f1-score por clase).\n"
   ]
  },
  {
   "cell_type": "code",
   "execution_count": null,
   "id": "1ab6a301",
   "metadata": {},
   "outputs": [],
   "source": [
    "\n",
    "acc = accuracy_score(y_test, y_pred)\n",
    "report = classification_report(y_test, y_pred)\n",
    "\n",
    "print(\"Accuracy:\", round(acc, 4))\n",
    "print(\"\\nReporte de clasificación:\\n\", report)\n",
    "\n",
    "resultado = {\n",
    "    \"accuracy\": float(acc),\n",
    "    \"graficas\": [str(hist_path), str(box_path), str(conf_path)]\n",
    "}\n",
    "resultado\n"
   ]
  },
  {
   "cell_type": "markdown",
   "id": "5c43b058",
   "metadata": {},
   "source": [
    "\n",
    "## 10) (Opcional) Función de predicción para nuevos datos\n",
    "Esta celda define una función `predecir` que recibe un `DataFrame` con las mismas columnas de `features` y devuelve la predicción del modelo.  \n",
    "> Útil para validar casos manuales o nuevos registros.\n"
   ]
  },
  {
   "cell_type": "code",
   "execution_count": null,
   "id": "426282bb",
   "metadata": {},
   "outputs": [],
   "source": [
    "\n",
    "def predecir(df_nuevo):\n",
    "    \"\"\"\n",
    "    Recibe un DataFrame con columnas:\n",
    "    ['Tiempo_Duracion', 'Cantidad_Contenedores', 'Promedio_Llenado', 'Porcentaje_Recolectado']\n",
    "    Devuelve un vector de predicciones (0 = No eficiente, 1 = Eficiente).\n",
    "    \"\"\"\n",
    "    faltantes = [c for c in ['Tiempo_Duracion', 'Cantidad_Contenedores', 'Promedio_Llenado', 'Porcentaje_Recolectado'] if c not in df_nuevo.columns]\n",
    "    if faltantes:\n",
    "        raise ValueError(f\"Faltan columnas requeridas: {faltantes}\")\n",
    "    X_new = df_nuevo[['Tiempo_Duracion', 'Cantidad_Contenedores', 'Promedio_Llenado', 'Porcentaje_Recolectado']].fillna(0)\n",
    "    return clf.predict(X_new)\n",
    "\n",
    "# Ejemplo de uso:\n",
    "# import pandas as pd\n",
    "# df_ejemplo = pd.DataFrame([\n",
    "#     {'Tiempo_Duracion': 95, 'Cantidad_Contenedores': 15, 'Promedio_Llenado': 0.7, 'Porcentaje_Recolectado': 0.85},\n",
    "#     {'Tiempo_Duracion': 120, 'Cantidad_Contenedores': 20, 'Promedio_Llenado': 0.6, 'Porcentaje_Recolectado': 0.75},\n",
    "# ])\n",
    "# predecir(df_ejemplo)\n"
   ]
  },
  {
   "cell_type": "markdown",
   "id": "f36401fd",
   "metadata": {},
   "source": [
    "\n",
    "---\n",
    "\n",
    "### ✅ Resumen\n",
    "- **Datos de entrada:** `public/bitacora_recoleccion_etl.csv` y `public/bitacora_contenedor_etl.csv`  \n",
    "- **Modelo:** RandomForestClassifier  \n",
    "- **Salida:** `public/modelos/modelo_supervisado.pkl`  \n",
    "- **Gráficas:** `public/graficas/`  \n",
    "- **Métricas:** accuracy y reporte de clasificación\n",
    "\n",
    "### 🔧 Sugerencias\n",
    "- Si cambias la **regla de negocio** de `Eficiente`, edita la celda **5)**.\n",
    "- Puedes ajustar hiperparámetros del RandomForest (e.g., `max_depth`, `min_samples_split`) para mejorar rendimiento.\n"
   ]
  }
 ],
 "metadata": {},
 "nbformat": 4,
 "nbformat_minor": 5
}
